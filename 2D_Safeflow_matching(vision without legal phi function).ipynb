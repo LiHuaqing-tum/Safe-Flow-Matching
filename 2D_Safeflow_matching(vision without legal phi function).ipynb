{
  "cells": [
    {
      "cell_type": "markdown",
      "metadata": {
        "id": "view-in-github",
        "colab_type": "text"
      },
      "source": [
        "<a href=\"https://colab.research.google.com/github/LiHuaqing-tum/Safe-Flow-Matching/blob/main/2D_Safeflow_matching(vision%20without%20legal%20phi%20function).ipynb\" target=\"_parent\"><img src=\"https://colab.research.google.com/assets/colab-badge.svg\" alt=\"Open In Colab\"/></a>"
      ]
    },
    {
      "cell_type": "code",
      "execution_count": null,
      "metadata": {
        "id": "s6TglZF2mpZk",
        "colab": {
          "base_uri": "https://localhost:8080/"
        },
        "outputId": "eb84fd42-114e-44b5-ea71-fce71fedc199"
      },
      "outputs": [
        {
          "output_type": "stream",
          "name": "stdout",
          "text": [
            "Requirement already satisfied: cvxpy in /usr/local/lib/python3.11/dist-packages (1.6.5)\n",
            "Collecting ecos\n",
            "  Downloading ecos-2.0.14-cp311-cp311-manylinux_2_17_x86_64.manylinux2014_x86_64.whl.metadata (8.0 kB)\n",
            "Requirement already satisfied: osqp>=0.6.2 in /usr/local/lib/python3.11/dist-packages (from cvxpy) (1.0.4)\n",
            "Requirement already satisfied: clarabel>=0.5.0 in /usr/local/lib/python3.11/dist-packages (from cvxpy) (0.10.0)\n",
            "Requirement already satisfied: scs>=3.2.4.post1 in /usr/local/lib/python3.11/dist-packages (from cvxpy) (3.2.7.post2)\n",
            "Requirement already satisfied: numpy>=1.21.6 in /usr/local/lib/python3.11/dist-packages (from cvxpy) (2.0.2)\n",
            "Requirement already satisfied: scipy>=1.11.0 in /usr/local/lib/python3.11/dist-packages (from cvxpy) (1.15.3)\n",
            "Requirement already satisfied: jinja2 in /usr/local/lib/python3.11/dist-packages (from osqp>=0.6.2->cvxpy) (3.1.6)\n",
            "Requirement already satisfied: setuptools in /usr/local/lib/python3.11/dist-packages (from osqp>=0.6.2->cvxpy) (75.2.0)\n",
            "Requirement already satisfied: joblib in /usr/local/lib/python3.11/dist-packages (from osqp>=0.6.2->cvxpy) (1.5.0)\n",
            "Requirement already satisfied: MarkupSafe>=2.0 in /usr/local/lib/python3.11/dist-packages (from jinja2->osqp>=0.6.2->cvxpy) (3.0.2)\n",
            "Downloading ecos-2.0.14-cp311-cp311-manylinux_2_17_x86_64.manylinux2014_x86_64.whl (220 kB)\n",
            "\u001b[2K   \u001b[90m━━━━━━━━━━━━━━━━━━━━━━━━━━━━━━━━━━━━━━━━\u001b[0m \u001b[32m220.1/220.1 kB\u001b[0m \u001b[31m12.8 MB/s\u001b[0m eta \u001b[36m0:00:00\u001b[0m\n",
            "\u001b[?25hInstalling collected packages: ecos\n",
            "Successfully installed ecos-2.0.14\n"
          ]
        }
      ],
      "source": [
        "\n",
        "!pip install cvxpy ecos\n",
        "import cvxpy as cp\n",
        "import torch\n",
        "from torch.utils.data import Dataset, DataLoader\n",
        "import numpy as np\n",
        "\n",
        "class SafeFlowDataset(Dataset):\n",
        "    def __init__(self, npz_path, device=\"cpu\"):\n",
        "        super().__init__()\n",
        "        self.device = device\n",
        "        self.raw = np.load(npz_path, allow_pickle=True)[\"data\"]\n",
        "        self.samples = list(self.raw)\n",
        "\n",
        "    def __len__(self):\n",
        "        return len(self.samples)\n",
        "\n",
        "    def __getitem__(self, idx):\n",
        "        sample = self.samples[idx]\n",
        "        #数据转化\n",
        "        start = torch.tensor(sample[\"start\"], dtype=torch.float32)\n",
        "        goal = torch.tensor(sample[\"goal\"], dtype=torch.float32)\n",
        "        obstacles = torch.tensor(sample[\"obstacles\"], dtype=torch.float32).flatten()  # [9]\n",
        "        trajectory = torch.tensor(sample[\"trajectory\"], dtype=torch.float32)  # [H, 2]#数据集中的H大小反映平滑度\n",
        "        #数据转化\n",
        "        time_steps = torch.linspace(0, 1, steps=trajectory.shape[0]).unsqueeze(-1)   # [H, 1]\n",
        "        inputs = torch.cat([time_steps, trajectory], dim=-1)  # [H, 3]\n",
        "\n",
        "        return inputs, goal, obstacles, trajectory\n"
      ]
    },
    {
      "cell_type": "code",
      "execution_count": null,
      "metadata": {
        "id": "YWgr5fuqruxz"
      },
      "outputs": [],
      "source": [
        "import torch\n",
        "import torch.nn as nn\n",
        "\n",
        "class SafeFlowNet(nn.Module):\n",
        "    def __init__(self, hidden_dim=128):\n",
        "        super().__init__()\n",
        "        self.net = nn.Sequential(\n",
        "            nn.Linear(12, hidden_dim),  # 输入: t,x,y和3个圆形障碍物的9个参数（x,y,r）\n",
        "            nn.ReLU(),\n",
        "            nn.Linear(hidden_dim, hidden_dim),\n",
        "            nn.ReLU(),\n",
        "            nn.Linear(hidden_dim, 2)    # 输出速度: dx, dy\n",
        "        )\n",
        "\n",
        "    def forward(self, t_x, obstacles):\n",
        "        B, H, _ = t_x.shape\n",
        "        obs = obstacles.unsqueeze(1).repeat(1, H, 1)  # 从[B,9]到][B, H, 9]\n",
        "        inp = torch.cat([t_x, obs], dim=-1)  # [B, H, 12]，把t,x,y和obs拼起来\n",
        "        return self.net(inp)#最后通过inp算出速度\n"
      ]
    },
    {
      "cell_type": "code",
      "execution_count": null,
      "metadata": {
        "id": "2h_LY9uJsKin"
      },
      "outputs": [],
      "source": [
        "import numpy as np\n",
        "import torch\n",
        "#可视化\n",
        "def rollout_trajectory(model, start, obstacles, steps=10, dt=1.0/10):\n",
        "\n",
        "    device = start.device\n",
        "    B = start.shape[0]\n",
        "    x = start\n",
        "    trajectory = [x]#trajectory起点是start\n",
        "\n",
        "    for i in range(steps):\n",
        "        t = torch.full((B, 1), i * dt, dtype=torch.float32, device=device) #所有元素都是i*dt,[B, 1]\n",
        "        tx = torch.cat([t, x], dim=-1).unsqueeze(1)  # [B, 1, 3]\n",
        "        v = model(tx, obstacles).squeeze(1)#预测速度\n",
        "        x = x + dt * v\n",
        "        trajectory.append(x)#把当前算的trajectory加入其中\n",
        "\n",
        "    return torch.stack(trajectory, dim=1)#返回轨迹，增加维度拼成大tensor\n"
      ]
    },
    {
      "cell_type": "code",
      "execution_count": null,
      "metadata": {
        "id": "hchae07cshRi"
      },
      "outputs": [],
      "source": [
        "import torch\n",
        "import torch.optim as optim\n",
        "from tqdm import tqdm\n",
        "\n",
        "def train_safeflow(model, dataloader, num_epochs=10, lr=1e-3, device=\"cpu\"):\n",
        "    model.to(device)\n",
        "    optimizer = optim.Adam(model.parameters(), lr=lr)#选了adam\n",
        "    model.train()\n",
        "\n",
        "    for epoch in range(num_epochs):\n",
        "        total_loss = 0.0\n",
        "        pbar = tqdm(dataloader, desc=f\"Epoch {epoch+1}/{num_epochs}\")\n",
        "\n",
        "        for inputs, goal, obstacles, target_traj in pbar:\n",
        "            inputs = inputs.to(device)              # [B, H, 3]\n",
        "            obstacles = obstacles.to(device)        # [B, 9]\n",
        "            target_traj = target_traj.to(device)    # [B, H, 2]\n",
        "\n",
        "            start = inputs[:, 0, 1:3]  # 提取 t=0 时的 (x0, y0)\n",
        "            pred_traj = rollout_trajectory(model, start, obstacles, steps=inputs.shape[1] - 1)\n",
        "\n",
        "            loss = torch.mean((pred_traj - target_traj) ** 2)  # 计算MSE loss\n",
        "            optimizer.zero_grad()\n",
        "            loss.backward()\n",
        "            optimizer.step()\n",
        "\n",
        "            total_loss += loss.item()#对这一轮epoch的所有batch的loss求和\n",
        "            pbar.set_postfix({\"loss\": loss.item()})#显示进度\n",
        "\n",
        "        avg_loss = total_loss / len(dataloader)\n",
        "        print(f\"✅ Epoch {epoch+1} finished, avg loss = {avg_loss:.6f}\")\n",
        "\n",
        "    return model\n"
      ]
    },
    {
      "cell_type": "code",
      "execution_count": null,
      "metadata": {
        "id": "38s93JwdtW6L"
      },
      "outputs": [],
      "source": [
        "import cvxpy as cp\n",
        "import numpy as np\n",
        "\n",
        "# 计算障碍函数 h(x) 及其梯度 ，针对圆形障碍\n",
        "def compute_barrier_terms(x, obstacles, phi=10.0):#pi是屏蔽函数的强度因子\n",
        "    grads = []\n",
        "    hs = []\n",
        "    for (cx, cy, r) in obstacles:\n",
        "        c = np.array([cx, cy])\n",
        "        h_val = np.sum((x - c)**2) - r**2\n",
        "        grad_h = 2 * (x - c)\n",
        "        hs.append(h_val)\n",
        "        grads.append(grad_h)\n",
        "    return grads, hs\n",
        "\n",
        "# 解 QP 最小化 u，确保 FMBF 约束成立\n",
        "def solve_ut_qp(x, v, obstacles, phi=10.0):\n",
        "    \"\"\"\n",
        "    x: 当前坐标 [2]\n",
        "    v: 原始速度向量 [2]\n",
        "    obstacles: [(cx, cy, r), ...]\n",
        "    返回: 控制修正量 u [2]\n",
        "    \"\"\"\n",
        "    u = cp.Variable(2)\n",
        "    objective = cp.Minimize(cp.sum_squares(u))\n",
        "    constraints = []\n",
        "\n",
        "    grads, hs = compute_barrier_terms(x, obstacles, phi)\n",
        "    for grad_h, h_val in zip(grads, hs):\n",
        "        constraint = grad_h @ (v + u) + phi * h_val >= 0\n",
        "        constraints.append(constraint)\n",
        "\n",
        "    prob = cp.Problem(objective, constraints)\n",
        "    prob.solve(solver=cp.ECOS)\n",
        "\n",
        "    if u.value is not None:\n",
        "        return u.value.astype(np.float32)\n",
        "    else:\n",
        "        return np.zeros(2, dtype=np.float32)  # fallback\n"
      ]
    },
    {
      "cell_type": "code",
      "execution_count": null,
      "metadata": {
        "id": "3Cpugb0Kt2LL"
      },
      "outputs": [],
      "source": [
        "import numpy as np\n",
        "\n",
        "# 安全 rollout 函数：每一步都加上 solve_ut_qp 返回的控制修正项 u_t\n",
        "def rollout_trajectory_safe(model, start, obstacles, steps=10, dt=1.0/10, phi=10.0):\n",
        "    device = start.device\n",
        "    B = start.shape[0] # Assuming batch size is 1 for visualization\n",
        "    if B != 1:\n",
        "        print(\"Warning: rollout_trajectory_safe designed for batch size 1 in visualization.\")\n",
        "\n",
        "    x = start.clone() # Start position [1, 2]\n",
        "    # Store as CPU tensor for stacking later, remove batch dim for consistency\n",
        "    trajectory = [x.squeeze(0).cpu()]\n",
        "    # Convert obstacles to numpy list of tuples for solve_ut_qp\n",
        "    obstacles_np = obstacles.squeeze(0).cpu().numpy().reshape(-1, 3) # [9] -> [3, 3]\n",
        "    obstacles_list = [tuple(obs) for obs in obstacles_np] # [(cx, cy, r), ...]\n",
        "\n",
        "    model.eval() # Ensure model is in evaluation mode\n",
        "\n",
        "    for i in range(steps):\n",
        "        t = torch.full((B, 1), i * dt, dtype=torch.float32, device=device)\n",
        "        tx = torch.cat([t, x], dim=-1).unsqueeze(1)  # [B, 1, 3]\n",
        "\n",
        "        with torch.no_grad(): # No need to compute gradients for inference\n",
        "            v = model(tx, obstacles).squeeze(1)      # [B, 2]\n",
        "\n",
        "        # Convert current state and predicted velocity to numpy for QP solver\n",
        "        x_np = x.squeeze(0).cpu().numpy() # [2]\n",
        "        # Corrected line: call numpy() method\n",
        "        v_np = v.squeeze(0).cpu().numpy() # [2]\n",
        "\n",
        "        # Solve QP for control correction u_t\n",
        "        u_t_np = solve_ut_qp(x_np, v_np, obstacles_list, phi) # [2]\n",
        "\n",
        "        # Convert u_t back to torch tensor and ensure it's on the correct device\n",
        "        u_t = torch.tensor(u_t_np, dtype=torch.float32, device=device).unsqueeze(0) # [1, 2]\n",
        "\n",
        "        # Apply the control correction\n",
        "        v_safe = v + u_t # [B, 2]\n",
        "\n",
        "        # Update position\n",
        "        x = x + dt * v_safe # [B, 2]\n",
        "\n",
        "        # Append current state to trajectory\n",
        "        trajectory.append(x.squeeze(0).cpu())\n",
        "\n",
        "    # Stack the trajectory steps\n",
        "    pred_traj_safe = torch.stack(trajectory, dim=0) # [H, 2]\n",
        "\n",
        "    return pred_traj_safe"
      ]
    },
    {
      "cell_type": "code",
      "execution_count": null,
      "metadata": {
        "colab": {
          "base_uri": "https://localhost:8080/",
          "height": 77
        },
        "id": "uo3nqmidwLo3",
        "outputId": "37c93e5e-f484-4a80-f7be-75e69244dc78"
      },
      "outputs": [
        {
          "output_type": "display_data",
          "data": {
            "text/plain": [
              "<IPython.core.display.HTML object>"
            ],
            "text/html": [
              "\n",
              "     <input type=\"file\" id=\"files-313ccbf9-adca-483f-89f7-6b95d36cfc46\" name=\"files[]\" multiple disabled\n",
              "        style=\"border:none\" />\n",
              "     <output id=\"result-313ccbf9-adca-483f-89f7-6b95d36cfc46\">\n",
              "      Upload widget is only available when the cell has been executed in the\n",
              "      current browser session. Please rerun this cell to enable.\n",
              "      </output>\n",
              "      <script>// Copyright 2017 Google LLC\n",
              "//\n",
              "// Licensed under the Apache License, Version 2.0 (the \"License\");\n",
              "// you may not use this file except in compliance with the License.\n",
              "// You may obtain a copy of the License at\n",
              "//\n",
              "//      http://www.apache.org/licenses/LICENSE-2.0\n",
              "//\n",
              "// Unless required by applicable law or agreed to in writing, software\n",
              "// distributed under the License is distributed on an \"AS IS\" BASIS,\n",
              "// WITHOUT WARRANTIES OR CONDITIONS OF ANY KIND, either express or implied.\n",
              "// See the License for the specific language governing permissions and\n",
              "// limitations under the License.\n",
              "\n",
              "/**\n",
              " * @fileoverview Helpers for google.colab Python module.\n",
              " */\n",
              "(function(scope) {\n",
              "function span(text, styleAttributes = {}) {\n",
              "  const element = document.createElement('span');\n",
              "  element.textContent = text;\n",
              "  for (const key of Object.keys(styleAttributes)) {\n",
              "    element.style[key] = styleAttributes[key];\n",
              "  }\n",
              "  return element;\n",
              "}\n",
              "\n",
              "// Max number of bytes which will be uploaded at a time.\n",
              "const MAX_PAYLOAD_SIZE = 100 * 1024;\n",
              "\n",
              "function _uploadFiles(inputId, outputId) {\n",
              "  const steps = uploadFilesStep(inputId, outputId);\n",
              "  const outputElement = document.getElementById(outputId);\n",
              "  // Cache steps on the outputElement to make it available for the next call\n",
              "  // to uploadFilesContinue from Python.\n",
              "  outputElement.steps = steps;\n",
              "\n",
              "  return _uploadFilesContinue(outputId);\n",
              "}\n",
              "\n",
              "// This is roughly an async generator (not supported in the browser yet),\n",
              "// where there are multiple asynchronous steps and the Python side is going\n",
              "// to poll for completion of each step.\n",
              "// This uses a Promise to block the python side on completion of each step,\n",
              "// then passes the result of the previous step as the input to the next step.\n",
              "function _uploadFilesContinue(outputId) {\n",
              "  const outputElement = document.getElementById(outputId);\n",
              "  const steps = outputElement.steps;\n",
              "\n",
              "  const next = steps.next(outputElement.lastPromiseValue);\n",
              "  return Promise.resolve(next.value.promise).then((value) => {\n",
              "    // Cache the last promise value to make it available to the next\n",
              "    // step of the generator.\n",
              "    outputElement.lastPromiseValue = value;\n",
              "    return next.value.response;\n",
              "  });\n",
              "}\n",
              "\n",
              "/**\n",
              " * Generator function which is called between each async step of the upload\n",
              " * process.\n",
              " * @param {string} inputId Element ID of the input file picker element.\n",
              " * @param {string} outputId Element ID of the output display.\n",
              " * @return {!Iterable<!Object>} Iterable of next steps.\n",
              " */\n",
              "function* uploadFilesStep(inputId, outputId) {\n",
              "  const inputElement = document.getElementById(inputId);\n",
              "  inputElement.disabled = false;\n",
              "\n",
              "  const outputElement = document.getElementById(outputId);\n",
              "  outputElement.innerHTML = '';\n",
              "\n",
              "  const pickedPromise = new Promise((resolve) => {\n",
              "    inputElement.addEventListener('change', (e) => {\n",
              "      resolve(e.target.files);\n",
              "    });\n",
              "  });\n",
              "\n",
              "  const cancel = document.createElement('button');\n",
              "  inputElement.parentElement.appendChild(cancel);\n",
              "  cancel.textContent = 'Cancel upload';\n",
              "  const cancelPromise = new Promise((resolve) => {\n",
              "    cancel.onclick = () => {\n",
              "      resolve(null);\n",
              "    };\n",
              "  });\n",
              "\n",
              "  // Wait for the user to pick the files.\n",
              "  const files = yield {\n",
              "    promise: Promise.race([pickedPromise, cancelPromise]),\n",
              "    response: {\n",
              "      action: 'starting',\n",
              "    }\n",
              "  };\n",
              "\n",
              "  cancel.remove();\n",
              "\n",
              "  // Disable the input element since further picks are not allowed.\n",
              "  inputElement.disabled = true;\n",
              "\n",
              "  if (!files) {\n",
              "    return {\n",
              "      response: {\n",
              "        action: 'complete',\n",
              "      }\n",
              "    };\n",
              "  }\n",
              "\n",
              "  for (const file of files) {\n",
              "    const li = document.createElement('li');\n",
              "    li.append(span(file.name, {fontWeight: 'bold'}));\n",
              "    li.append(span(\n",
              "        `(${file.type || 'n/a'}) - ${file.size} bytes, ` +\n",
              "        `last modified: ${\n",
              "            file.lastModifiedDate ? file.lastModifiedDate.toLocaleDateString() :\n",
              "                                    'n/a'} - `));\n",
              "    const percent = span('0% done');\n",
              "    li.appendChild(percent);\n",
              "\n",
              "    outputElement.appendChild(li);\n",
              "\n",
              "    const fileDataPromise = new Promise((resolve) => {\n",
              "      const reader = new FileReader();\n",
              "      reader.onload = (e) => {\n",
              "        resolve(e.target.result);\n",
              "      };\n",
              "      reader.readAsArrayBuffer(file);\n",
              "    });\n",
              "    // Wait for the data to be ready.\n",
              "    let fileData = yield {\n",
              "      promise: fileDataPromise,\n",
              "      response: {\n",
              "        action: 'continue',\n",
              "      }\n",
              "    };\n",
              "\n",
              "    // Use a chunked sending to avoid message size limits. See b/62115660.\n",
              "    let position = 0;\n",
              "    do {\n",
              "      const length = Math.min(fileData.byteLength - position, MAX_PAYLOAD_SIZE);\n",
              "      const chunk = new Uint8Array(fileData, position, length);\n",
              "      position += length;\n",
              "\n",
              "      const base64 = btoa(String.fromCharCode.apply(null, chunk));\n",
              "      yield {\n",
              "        response: {\n",
              "          action: 'append',\n",
              "          file: file.name,\n",
              "          data: base64,\n",
              "        },\n",
              "      };\n",
              "\n",
              "      let percentDone = fileData.byteLength === 0 ?\n",
              "          100 :\n",
              "          Math.round((position / fileData.byteLength) * 100);\n",
              "      percent.textContent = `${percentDone}% done`;\n",
              "\n",
              "    } while (position < fileData.byteLength);\n",
              "  }\n",
              "\n",
              "  // All done.\n",
              "  yield {\n",
              "    response: {\n",
              "      action: 'complete',\n",
              "    }\n",
              "  };\n",
              "}\n",
              "\n",
              "scope.google = scope.google || {};\n",
              "scope.google.colab = scope.google.colab || {};\n",
              "scope.google.colab._files = {\n",
              "  _uploadFiles,\n",
              "  _uploadFilesContinue,\n",
              "};\n",
              "})(self);\n",
              "</script> "
            ]
          },
          "metadata": {}
        },
        {
          "output_type": "stream",
          "name": "stdout",
          "text": [
            "Saving safeflow_dataset_smoothed_H500.npz to safeflow_dataset_smoothed_H500.npz\n"
          ]
        }
      ],
      "source": [
        "from google.colab import files\n",
        "uploaded = files.upload()"
      ]
    },
    {
      "cell_type": "code",
      "execution_count": null,
      "metadata": {
        "colab": {
          "base_uri": "https://localhost:8080/"
        },
        "id": "eAGHrwIet9Hv",
        "outputId": "197d4f83-5398-4cbc-f6a9-8a9996cf3023"
      },
      "outputs": [
        {
          "output_type": "stream",
          "name": "stderr",
          "text": [
            "Epoch 1/100: 100%|██████████| 63/63 [00:29<00:00,  2.16it/s, loss=0.0833]\n"
          ]
        },
        {
          "output_type": "stream",
          "name": "stdout",
          "text": [
            "✅ Epoch 1 finished, avg loss = 16.525715\n"
          ]
        },
        {
          "output_type": "stream",
          "name": "stderr",
          "text": [
            "Epoch 2/100: 100%|██████████| 63/63 [00:28<00:00,  2.19it/s, loss=0.00656]\n"
          ]
        },
        {
          "output_type": "stream",
          "name": "stdout",
          "text": [
            "✅ Epoch 2 finished, avg loss = 0.027896\n"
          ]
        },
        {
          "output_type": "stream",
          "name": "stderr",
          "text": [
            "Epoch 3/100: 100%|██████████| 63/63 [00:28<00:00,  2.22it/s, loss=0.00575]\n"
          ]
        },
        {
          "output_type": "stream",
          "name": "stdout",
          "text": [
            "✅ Epoch 3 finished, avg loss = 0.005350\n"
          ]
        },
        {
          "output_type": "stream",
          "name": "stderr",
          "text": [
            "Epoch 4/100: 100%|██████████| 63/63 [00:28<00:00,  2.22it/s, loss=0.00316]\n"
          ]
        },
        {
          "output_type": "stream",
          "name": "stdout",
          "text": [
            "✅ Epoch 4 finished, avg loss = 0.003676\n"
          ]
        },
        {
          "output_type": "stream",
          "name": "stderr",
          "text": [
            "Epoch 5/100: 100%|██████████| 63/63 [00:28<00:00,  2.21it/s, loss=0.00256]\n"
          ]
        },
        {
          "output_type": "stream",
          "name": "stdout",
          "text": [
            "✅ Epoch 5 finished, avg loss = 0.002775\n"
          ]
        },
        {
          "output_type": "stream",
          "name": "stderr",
          "text": [
            "Epoch 6/100: 100%|██████████| 63/63 [00:28<00:00,  2.20it/s, loss=0.00571]\n"
          ]
        },
        {
          "output_type": "stream",
          "name": "stdout",
          "text": [
            "✅ Epoch 6 finished, avg loss = 0.002778\n"
          ]
        },
        {
          "output_type": "stream",
          "name": "stderr",
          "text": [
            "Epoch 7/100: 100%|██████████| 63/63 [00:28<00:00,  2.20it/s, loss=0.00496]\n"
          ]
        },
        {
          "output_type": "stream",
          "name": "stdout",
          "text": [
            "✅ Epoch 7 finished, avg loss = 0.002677\n"
          ]
        },
        {
          "output_type": "stream",
          "name": "stderr",
          "text": [
            "Epoch 8/100: 100%|██████████| 63/63 [00:28<00:00,  2.20it/s, loss=0.00176]\n"
          ]
        },
        {
          "output_type": "stream",
          "name": "stdout",
          "text": [
            "✅ Epoch 8 finished, avg loss = 0.002413\n"
          ]
        },
        {
          "output_type": "stream",
          "name": "stderr",
          "text": [
            "Epoch 9/100: 100%|██████████| 63/63 [00:28<00:00,  2.21it/s, loss=0.00268]\n"
          ]
        },
        {
          "output_type": "stream",
          "name": "stdout",
          "text": [
            "✅ Epoch 9 finished, avg loss = 0.002704\n"
          ]
        },
        {
          "output_type": "stream",
          "name": "stderr",
          "text": [
            "Epoch 10/100: 100%|██████████| 63/63 [00:28<00:00,  2.20it/s, loss=0.00242]\n"
          ]
        },
        {
          "output_type": "stream",
          "name": "stdout",
          "text": [
            "✅ Epoch 10 finished, avg loss = 0.002920\n"
          ]
        },
        {
          "output_type": "stream",
          "name": "stderr",
          "text": [
            "Epoch 11/100: 100%|██████████| 63/63 [00:28<00:00,  2.23it/s, loss=0.00116]\n"
          ]
        },
        {
          "output_type": "stream",
          "name": "stdout",
          "text": [
            "✅ Epoch 11 finished, avg loss = 0.001801\n"
          ]
        },
        {
          "output_type": "stream",
          "name": "stderr",
          "text": [
            "Epoch 12/100: 100%|██████████| 63/63 [00:28<00:00,  2.24it/s, loss=0.00112]\n"
          ]
        },
        {
          "output_type": "stream",
          "name": "stdout",
          "text": [
            "✅ Epoch 12 finished, avg loss = 0.001633\n"
          ]
        },
        {
          "output_type": "stream",
          "name": "stderr",
          "text": [
            "Epoch 13/100: 100%|██████████| 63/63 [00:28<00:00,  2.22it/s, loss=0.00219]\n"
          ]
        },
        {
          "output_type": "stream",
          "name": "stdout",
          "text": [
            "✅ Epoch 13 finished, avg loss = 0.001893\n"
          ]
        },
        {
          "output_type": "stream",
          "name": "stderr",
          "text": [
            "Epoch 14/100: 100%|██████████| 63/63 [00:27<00:00,  2.25it/s, loss=0.00134]\n"
          ]
        },
        {
          "output_type": "stream",
          "name": "stdout",
          "text": [
            "✅ Epoch 14 finished, avg loss = 0.001631\n"
          ]
        },
        {
          "output_type": "stream",
          "name": "stderr",
          "text": [
            "Epoch 15/100: 100%|██████████| 63/63 [00:28<00:00,  2.21it/s, loss=0.00105]\n"
          ]
        },
        {
          "output_type": "stream",
          "name": "stdout",
          "text": [
            "✅ Epoch 15 finished, avg loss = 0.001636\n"
          ]
        },
        {
          "output_type": "stream",
          "name": "stderr",
          "text": [
            "Epoch 16/100: 100%|██████████| 63/63 [00:28<00:00,  2.23it/s, loss=0.000759]\n"
          ]
        },
        {
          "output_type": "stream",
          "name": "stdout",
          "text": [
            "✅ Epoch 16 finished, avg loss = 0.001923\n"
          ]
        },
        {
          "output_type": "stream",
          "name": "stderr",
          "text": [
            "Epoch 17/100: 100%|██████████| 63/63 [00:28<00:00,  2.22it/s, loss=0.000952]\n"
          ]
        },
        {
          "output_type": "stream",
          "name": "stdout",
          "text": [
            "✅ Epoch 17 finished, avg loss = 0.001388\n"
          ]
        },
        {
          "output_type": "stream",
          "name": "stderr",
          "text": [
            "Epoch 18/100: 100%|██████████| 63/63 [00:28<00:00,  2.23it/s, loss=0.000898]\n"
          ]
        },
        {
          "output_type": "stream",
          "name": "stdout",
          "text": [
            "✅ Epoch 18 finished, avg loss = 0.001327\n"
          ]
        },
        {
          "output_type": "stream",
          "name": "stderr",
          "text": [
            "Epoch 19/100: 100%|██████████| 63/63 [00:28<00:00,  2.22it/s, loss=0.00132]\n"
          ]
        },
        {
          "output_type": "stream",
          "name": "stdout",
          "text": [
            "✅ Epoch 19 finished, avg loss = 0.001180\n"
          ]
        },
        {
          "output_type": "stream",
          "name": "stderr",
          "text": [
            "Epoch 20/100: 100%|██████████| 63/63 [00:28<00:00,  2.21it/s, loss=0.000883]\n"
          ]
        },
        {
          "output_type": "stream",
          "name": "stdout",
          "text": [
            "✅ Epoch 20 finished, avg loss = 0.001313\n"
          ]
        },
        {
          "output_type": "stream",
          "name": "stderr",
          "text": [
            "Epoch 21/100: 100%|██████████| 63/63 [00:28<00:00,  2.22it/s, loss=0.00125]\n"
          ]
        },
        {
          "output_type": "stream",
          "name": "stdout",
          "text": [
            "✅ Epoch 21 finished, avg loss = 0.001383\n"
          ]
        },
        {
          "output_type": "stream",
          "name": "stderr",
          "text": [
            "Epoch 22/100: 100%|██████████| 63/63 [00:27<00:00,  2.25it/s, loss=0.00162]\n"
          ]
        },
        {
          "output_type": "stream",
          "name": "stdout",
          "text": [
            "✅ Epoch 22 finished, avg loss = 0.001240\n"
          ]
        },
        {
          "output_type": "stream",
          "name": "stderr",
          "text": [
            "Epoch 23/100: 100%|██████████| 63/63 [00:27<00:00,  2.26it/s, loss=0.00189]\n"
          ]
        },
        {
          "output_type": "stream",
          "name": "stdout",
          "text": [
            "✅ Epoch 23 finished, avg loss = 0.001228\n"
          ]
        },
        {
          "output_type": "stream",
          "name": "stderr",
          "text": [
            "Epoch 24/100: 100%|██████████| 63/63 [00:28<00:00,  2.25it/s, loss=0.000734]\n"
          ]
        },
        {
          "output_type": "stream",
          "name": "stdout",
          "text": [
            "✅ Epoch 24 finished, avg loss = 0.001396\n"
          ]
        },
        {
          "output_type": "stream",
          "name": "stderr",
          "text": [
            "Epoch 25/100: 100%|██████████| 63/63 [00:27<00:00,  2.25it/s, loss=0.000488]\n"
          ]
        },
        {
          "output_type": "stream",
          "name": "stdout",
          "text": [
            "✅ Epoch 25 finished, avg loss = 0.001740\n"
          ]
        },
        {
          "output_type": "stream",
          "name": "stderr",
          "text": [
            "Epoch 26/100: 100%|██████████| 63/63 [00:27<00:00,  2.26it/s, loss=0.0013]\n"
          ]
        },
        {
          "output_type": "stream",
          "name": "stdout",
          "text": [
            "✅ Epoch 26 finished, avg loss = 0.001117\n"
          ]
        },
        {
          "output_type": "stream",
          "name": "stderr",
          "text": [
            "Epoch 27/100: 100%|██████████| 63/63 [00:27<00:00,  2.26it/s, loss=0.0021]\n"
          ]
        },
        {
          "output_type": "stream",
          "name": "stdout",
          "text": [
            "✅ Epoch 27 finished, avg loss = 0.001158\n"
          ]
        },
        {
          "output_type": "stream",
          "name": "stderr",
          "text": [
            "Epoch 28/100: 100%|██████████| 63/63 [00:28<00:00,  2.20it/s, loss=0.000616]\n"
          ]
        },
        {
          "output_type": "stream",
          "name": "stdout",
          "text": [
            "✅ Epoch 28 finished, avg loss = 0.001442\n"
          ]
        },
        {
          "output_type": "stream",
          "name": "stderr",
          "text": [
            "Epoch 29/100: 100%|██████████| 63/63 [00:28<00:00,  2.22it/s, loss=0.000925]\n"
          ]
        },
        {
          "output_type": "stream",
          "name": "stdout",
          "text": [
            "✅ Epoch 29 finished, avg loss = 0.001192\n"
          ]
        },
        {
          "output_type": "stream",
          "name": "stderr",
          "text": [
            "Epoch 30/100: 100%|██████████| 63/63 [00:28<00:00,  2.22it/s, loss=0.000852]\n"
          ]
        },
        {
          "output_type": "stream",
          "name": "stdout",
          "text": [
            "✅ Epoch 30 finished, avg loss = 0.001233\n"
          ]
        },
        {
          "output_type": "stream",
          "name": "stderr",
          "text": [
            "Epoch 31/100: 100%|██████████| 63/63 [00:28<00:00,  2.23it/s, loss=0.000543]\n"
          ]
        },
        {
          "output_type": "stream",
          "name": "stdout",
          "text": [
            "✅ Epoch 31 finished, avg loss = 0.001185\n"
          ]
        },
        {
          "output_type": "stream",
          "name": "stderr",
          "text": [
            "Epoch 32/100: 100%|██████████| 63/63 [00:28<00:00,  2.21it/s, loss=0.000922]\n"
          ]
        },
        {
          "output_type": "stream",
          "name": "stdout",
          "text": [
            "✅ Epoch 32 finished, avg loss = 0.001144\n"
          ]
        },
        {
          "output_type": "stream",
          "name": "stderr",
          "text": [
            "Epoch 33/100: 100%|██████████| 63/63 [00:28<00:00,  2.22it/s, loss=0.000721]\n"
          ]
        },
        {
          "output_type": "stream",
          "name": "stdout",
          "text": [
            "✅ Epoch 33 finished, avg loss = 0.000933\n"
          ]
        },
        {
          "output_type": "stream",
          "name": "stderr",
          "text": [
            "Epoch 34/100: 100%|██████████| 63/63 [00:28<00:00,  2.21it/s, loss=0.00103]\n"
          ]
        },
        {
          "output_type": "stream",
          "name": "stdout",
          "text": [
            "✅ Epoch 34 finished, avg loss = 0.001237\n"
          ]
        },
        {
          "output_type": "stream",
          "name": "stderr",
          "text": [
            "Epoch 35/100: 100%|██████████| 63/63 [00:28<00:00,  2.22it/s, loss=0.00164]\n"
          ]
        },
        {
          "output_type": "stream",
          "name": "stdout",
          "text": [
            "✅ Epoch 35 finished, avg loss = 0.001344\n"
          ]
        },
        {
          "output_type": "stream",
          "name": "stderr",
          "text": [
            "Epoch 36/100: 100%|██████████| 63/63 [00:28<00:00,  2.22it/s, loss=0.000983]\n"
          ]
        },
        {
          "output_type": "stream",
          "name": "stdout",
          "text": [
            "✅ Epoch 36 finished, avg loss = 0.000993\n"
          ]
        },
        {
          "output_type": "stream",
          "name": "stderr",
          "text": [
            "Epoch 37/100: 100%|██████████| 63/63 [00:28<00:00,  2.20it/s, loss=0.000908]\n"
          ]
        },
        {
          "output_type": "stream",
          "name": "stdout",
          "text": [
            "✅ Epoch 37 finished, avg loss = 0.001130\n"
          ]
        },
        {
          "output_type": "stream",
          "name": "stderr",
          "text": [
            "Epoch 38/100: 100%|██████████| 63/63 [00:28<00:00,  2.22it/s, loss=0.000846]\n"
          ]
        },
        {
          "output_type": "stream",
          "name": "stdout",
          "text": [
            "✅ Epoch 38 finished, avg loss = 0.001217\n"
          ]
        },
        {
          "output_type": "stream",
          "name": "stderr",
          "text": [
            "Epoch 39/100: 100%|██████████| 63/63 [00:28<00:00,  2.21it/s, loss=0.000679]\n"
          ]
        },
        {
          "output_type": "stream",
          "name": "stdout",
          "text": [
            "✅ Epoch 39 finished, avg loss = 0.001133\n"
          ]
        },
        {
          "output_type": "stream",
          "name": "stderr",
          "text": [
            "Epoch 40/100: 100%|██████████| 63/63 [00:28<00:00,  2.22it/s, loss=0.00102]\n"
          ]
        },
        {
          "output_type": "stream",
          "name": "stdout",
          "text": [
            "✅ Epoch 40 finished, avg loss = 0.001443\n"
          ]
        },
        {
          "output_type": "stream",
          "name": "stderr",
          "text": [
            "Epoch 41/100: 100%|██████████| 63/63 [00:28<00:00,  2.23it/s, loss=0.0025]\n"
          ]
        },
        {
          "output_type": "stream",
          "name": "stdout",
          "text": [
            "✅ Epoch 41 finished, avg loss = 0.001190\n"
          ]
        },
        {
          "output_type": "stream",
          "name": "stderr",
          "text": [
            "Epoch 42/100: 100%|██████████| 63/63 [00:28<00:00,  2.21it/s, loss=0.00109]\n"
          ]
        },
        {
          "output_type": "stream",
          "name": "stdout",
          "text": [
            "✅ Epoch 42 finished, avg loss = 0.001064\n"
          ]
        },
        {
          "output_type": "stream",
          "name": "stderr",
          "text": [
            "Epoch 43/100: 100%|██████████| 63/63 [00:28<00:00,  2.22it/s, loss=0.00112]\n"
          ]
        },
        {
          "output_type": "stream",
          "name": "stdout",
          "text": [
            "✅ Epoch 43 finished, avg loss = 0.001145\n"
          ]
        },
        {
          "output_type": "stream",
          "name": "stderr",
          "text": [
            "Epoch 44/100: 100%|██████████| 63/63 [00:28<00:00,  2.22it/s, loss=0.00452]\n"
          ]
        },
        {
          "output_type": "stream",
          "name": "stdout",
          "text": [
            "✅ Epoch 44 finished, avg loss = 0.001366\n"
          ]
        },
        {
          "output_type": "stream",
          "name": "stderr",
          "text": [
            "Epoch 45/100: 100%|██████████| 63/63 [00:28<00:00,  2.23it/s, loss=0.00091]\n"
          ]
        },
        {
          "output_type": "stream",
          "name": "stdout",
          "text": [
            "✅ Epoch 45 finished, avg loss = 0.001493\n"
          ]
        },
        {
          "output_type": "stream",
          "name": "stderr",
          "text": [
            "Epoch 46/100: 100%|██████████| 63/63 [00:28<00:00,  2.22it/s, loss=0.00191]\n"
          ]
        },
        {
          "output_type": "stream",
          "name": "stdout",
          "text": [
            "✅ Epoch 46 finished, avg loss = 0.001379\n"
          ]
        },
        {
          "output_type": "stream",
          "name": "stderr",
          "text": [
            "Epoch 47/100: 100%|██████████| 63/63 [00:28<00:00,  2.20it/s, loss=0.0009]\n"
          ]
        },
        {
          "output_type": "stream",
          "name": "stdout",
          "text": [
            "✅ Epoch 47 finished, avg loss = 0.001155\n"
          ]
        },
        {
          "output_type": "stream",
          "name": "stderr",
          "text": [
            "Epoch 48/100: 100%|██████████| 63/63 [00:28<00:00,  2.22it/s, loss=0.00271]\n"
          ]
        },
        {
          "output_type": "stream",
          "name": "stdout",
          "text": [
            "✅ Epoch 48 finished, avg loss = 0.001422\n"
          ]
        },
        {
          "output_type": "stream",
          "name": "stderr",
          "text": [
            "Epoch 49/100: 100%|██████████| 63/63 [00:27<00:00,  2.26it/s, loss=0.000506]\n"
          ]
        },
        {
          "output_type": "stream",
          "name": "stdout",
          "text": [
            "✅ Epoch 49 finished, avg loss = 0.002324\n"
          ]
        },
        {
          "output_type": "stream",
          "name": "stderr",
          "text": [
            "Epoch 50/100: 100%|██████████| 63/63 [00:27<00:00,  2.25it/s, loss=0.0011]\n"
          ]
        },
        {
          "output_type": "stream",
          "name": "stdout",
          "text": [
            "✅ Epoch 50 finished, avg loss = 0.001177\n"
          ]
        },
        {
          "output_type": "stream",
          "name": "stderr",
          "text": [
            "Epoch 51/100: 100%|██████████| 63/63 [00:27<00:00,  2.27it/s, loss=0.000764]\n"
          ]
        },
        {
          "output_type": "stream",
          "name": "stdout",
          "text": [
            "✅ Epoch 51 finished, avg loss = 0.001489\n"
          ]
        },
        {
          "output_type": "stream",
          "name": "stderr",
          "text": [
            "Epoch 52/100: 100%|██████████| 63/63 [00:27<00:00,  2.26it/s, loss=0.001]\n"
          ]
        },
        {
          "output_type": "stream",
          "name": "stdout",
          "text": [
            "✅ Epoch 52 finished, avg loss = 0.001799\n"
          ]
        },
        {
          "output_type": "stream",
          "name": "stderr",
          "text": [
            "Epoch 53/100: 100%|██████████| 63/63 [00:27<00:00,  2.26it/s, loss=0.000702]\n"
          ]
        },
        {
          "output_type": "stream",
          "name": "stdout",
          "text": [
            "✅ Epoch 53 finished, avg loss = 0.001605\n"
          ]
        },
        {
          "output_type": "stream",
          "name": "stderr",
          "text": [
            "Epoch 54/100: 100%|██████████| 63/63 [00:28<00:00,  2.24it/s, loss=0.000897]\n"
          ]
        },
        {
          "output_type": "stream",
          "name": "stdout",
          "text": [
            "✅ Epoch 54 finished, avg loss = 0.001236\n"
          ]
        },
        {
          "output_type": "stream",
          "name": "stderr",
          "text": [
            "Epoch 55/100: 100%|██████████| 63/63 [00:28<00:00,  2.25it/s, loss=0.00107]\n"
          ]
        },
        {
          "output_type": "stream",
          "name": "stdout",
          "text": [
            "✅ Epoch 55 finished, avg loss = 0.001677\n"
          ]
        },
        {
          "output_type": "stream",
          "name": "stderr",
          "text": [
            "Epoch 56/100: 100%|██████████| 63/63 [00:27<00:00,  2.26it/s, loss=0.000623]\n"
          ]
        },
        {
          "output_type": "stream",
          "name": "stdout",
          "text": [
            "✅ Epoch 56 finished, avg loss = 0.001038\n"
          ]
        },
        {
          "output_type": "stream",
          "name": "stderr",
          "text": [
            "Epoch 57/100: 100%|██████████| 63/63 [00:27<00:00,  2.25it/s, loss=0.00187]\n"
          ]
        },
        {
          "output_type": "stream",
          "name": "stdout",
          "text": [
            "✅ Epoch 57 finished, avg loss = 0.001449\n"
          ]
        },
        {
          "output_type": "stream",
          "name": "stderr",
          "text": [
            "Epoch 58/100: 100%|██████████| 63/63 [00:27<00:00,  2.27it/s, loss=0.000608]\n"
          ]
        },
        {
          "output_type": "stream",
          "name": "stdout",
          "text": [
            "✅ Epoch 58 finished, avg loss = 0.000831\n"
          ]
        },
        {
          "output_type": "stream",
          "name": "stderr",
          "text": [
            "Epoch 59/100: 100%|██████████| 63/63 [00:27<00:00,  2.26it/s, loss=0.00255]\n"
          ]
        },
        {
          "output_type": "stream",
          "name": "stdout",
          "text": [
            "✅ Epoch 59 finished, avg loss = 0.001698\n"
          ]
        },
        {
          "output_type": "stream",
          "name": "stderr",
          "text": [
            "Epoch 60/100: 100%|██████████| 63/63 [00:27<00:00,  2.27it/s, loss=0.000712]\n"
          ]
        },
        {
          "output_type": "stream",
          "name": "stdout",
          "text": [
            "✅ Epoch 60 finished, avg loss = 0.001442\n"
          ]
        },
        {
          "output_type": "stream",
          "name": "stderr",
          "text": [
            "Epoch 61/100: 100%|██████████| 63/63 [00:27<00:00,  2.27it/s, loss=0.000547]\n"
          ]
        },
        {
          "output_type": "stream",
          "name": "stdout",
          "text": [
            "✅ Epoch 61 finished, avg loss = 0.001061\n"
          ]
        },
        {
          "output_type": "stream",
          "name": "stderr",
          "text": [
            "Epoch 62/100: 100%|██████████| 63/63 [00:28<00:00,  2.21it/s, loss=0.000882]\n"
          ]
        },
        {
          "output_type": "stream",
          "name": "stdout",
          "text": [
            "✅ Epoch 62 finished, avg loss = 0.001236\n"
          ]
        },
        {
          "output_type": "stream",
          "name": "stderr",
          "text": [
            "Epoch 63/100: 100%|██████████| 63/63 [00:28<00:00,  2.24it/s, loss=0.00092]\n"
          ]
        },
        {
          "output_type": "stream",
          "name": "stdout",
          "text": [
            "✅ Epoch 63 finished, avg loss = 0.001160\n"
          ]
        },
        {
          "output_type": "stream",
          "name": "stderr",
          "text": [
            "Epoch 64/100: 100%|██████████| 63/63 [00:28<00:00,  2.24it/s, loss=0.000778]\n"
          ]
        },
        {
          "output_type": "stream",
          "name": "stdout",
          "text": [
            "✅ Epoch 64 finished, avg loss = 0.001475\n"
          ]
        },
        {
          "output_type": "stream",
          "name": "stderr",
          "text": [
            "Epoch 65/100: 100%|██████████| 63/63 [00:28<00:00,  2.25it/s, loss=0.00119]\n"
          ]
        },
        {
          "output_type": "stream",
          "name": "stdout",
          "text": [
            "✅ Epoch 65 finished, avg loss = 0.001206\n"
          ]
        },
        {
          "output_type": "stream",
          "name": "stderr",
          "text": [
            "Epoch 66/100: 100%|██████████| 63/63 [00:28<00:00,  2.25it/s, loss=0.000711]\n"
          ]
        },
        {
          "output_type": "stream",
          "name": "stdout",
          "text": [
            "✅ Epoch 66 finished, avg loss = 0.001294\n"
          ]
        },
        {
          "output_type": "stream",
          "name": "stderr",
          "text": [
            "Epoch 67/100: 100%|██████████| 63/63 [00:28<00:00,  2.24it/s, loss=0.000612]\n"
          ]
        },
        {
          "output_type": "stream",
          "name": "stdout",
          "text": [
            "✅ Epoch 67 finished, avg loss = 0.001121\n"
          ]
        },
        {
          "output_type": "stream",
          "name": "stderr",
          "text": [
            "Epoch 68/100: 100%|██████████| 63/63 [00:28<00:00,  2.25it/s, loss=0.00122]\n"
          ]
        },
        {
          "output_type": "stream",
          "name": "stdout",
          "text": [
            "✅ Epoch 68 finished, avg loss = 0.001051\n"
          ]
        },
        {
          "output_type": "stream",
          "name": "stderr",
          "text": [
            "Epoch 69/100: 100%|██████████| 63/63 [00:27<00:00,  2.26it/s, loss=0.00559]\n"
          ]
        },
        {
          "output_type": "stream",
          "name": "stdout",
          "text": [
            "✅ Epoch 69 finished, avg loss = 0.002125\n"
          ]
        },
        {
          "output_type": "stream",
          "name": "stderr",
          "text": [
            "Epoch 70/100: 100%|██████████| 63/63 [00:28<00:00,  2.24it/s, loss=0.000945]\n"
          ]
        },
        {
          "output_type": "stream",
          "name": "stdout",
          "text": [
            "✅ Epoch 70 finished, avg loss = 0.001646\n"
          ]
        },
        {
          "output_type": "stream",
          "name": "stderr",
          "text": [
            "Epoch 71/100: 100%|██████████| 63/63 [00:27<00:00,  2.25it/s, loss=0.00242]\n"
          ]
        },
        {
          "output_type": "stream",
          "name": "stdout",
          "text": [
            "✅ Epoch 71 finished, avg loss = 0.001806\n"
          ]
        },
        {
          "output_type": "stream",
          "name": "stderr",
          "text": [
            "Epoch 72/100: 100%|██████████| 63/63 [00:27<00:00,  2.25it/s, loss=0.00225]\n"
          ]
        },
        {
          "output_type": "stream",
          "name": "stdout",
          "text": [
            "✅ Epoch 72 finished, avg loss = 0.001300\n"
          ]
        },
        {
          "output_type": "stream",
          "name": "stderr",
          "text": [
            "Epoch 73/100: 100%|██████████| 63/63 [00:28<00:00,  2.24it/s, loss=0.00054]\n"
          ]
        },
        {
          "output_type": "stream",
          "name": "stdout",
          "text": [
            "✅ Epoch 73 finished, avg loss = 0.001748\n"
          ]
        },
        {
          "output_type": "stream",
          "name": "stderr",
          "text": [
            "Epoch 74/100: 100%|██████████| 63/63 [00:28<00:00,  2.24it/s, loss=0.00136]\n"
          ]
        },
        {
          "output_type": "stream",
          "name": "stdout",
          "text": [
            "✅ Epoch 74 finished, avg loss = 0.001759\n"
          ]
        },
        {
          "output_type": "stream",
          "name": "stderr",
          "text": [
            "Epoch 75/100: 100%|██████████| 63/63 [00:28<00:00,  2.25it/s, loss=0.00416]\n"
          ]
        },
        {
          "output_type": "stream",
          "name": "stdout",
          "text": [
            "✅ Epoch 75 finished, avg loss = 0.001185\n"
          ]
        },
        {
          "output_type": "stream",
          "name": "stderr",
          "text": [
            "Epoch 76/100: 100%|██████████| 63/63 [00:27<00:00,  2.26it/s, loss=0.000779]\n"
          ]
        },
        {
          "output_type": "stream",
          "name": "stdout",
          "text": [
            "✅ Epoch 76 finished, avg loss = 0.001821\n"
          ]
        },
        {
          "output_type": "stream",
          "name": "stderr",
          "text": [
            "Epoch 77/100: 100%|██████████| 63/63 [00:28<00:00,  2.24it/s, loss=0.00464]\n"
          ]
        },
        {
          "output_type": "stream",
          "name": "stdout",
          "text": [
            "✅ Epoch 77 finished, avg loss = 0.001683\n"
          ]
        },
        {
          "output_type": "stream",
          "name": "stderr",
          "text": [
            "Epoch 78/100: 100%|██████████| 63/63 [00:27<00:00,  2.25it/s, loss=0.00129]\n"
          ]
        },
        {
          "output_type": "stream",
          "name": "stdout",
          "text": [
            "✅ Epoch 78 finished, avg loss = 0.001363\n"
          ]
        },
        {
          "output_type": "stream",
          "name": "stderr",
          "text": [
            "Epoch 79/100: 100%|██████████| 63/63 [00:28<00:00,  2.25it/s, loss=0.000718]\n"
          ]
        },
        {
          "output_type": "stream",
          "name": "stdout",
          "text": [
            "✅ Epoch 79 finished, avg loss = 0.001415\n"
          ]
        },
        {
          "output_type": "stream",
          "name": "stderr",
          "text": [
            "Epoch 80/100: 100%|██████████| 63/63 [00:27<00:00,  2.26it/s, loss=0.00196]\n"
          ]
        },
        {
          "output_type": "stream",
          "name": "stdout",
          "text": [
            "✅ Epoch 80 finished, avg loss = 0.001749\n"
          ]
        },
        {
          "output_type": "stream",
          "name": "stderr",
          "text": [
            "Epoch 81/100: 100%|██████████| 63/63 [00:27<00:00,  2.27it/s, loss=0.00136]\n"
          ]
        },
        {
          "output_type": "stream",
          "name": "stdout",
          "text": [
            "✅ Epoch 81 finished, avg loss = 0.001330\n"
          ]
        },
        {
          "output_type": "stream",
          "name": "stderr",
          "text": [
            "Epoch 82/100: 100%|██████████| 63/63 [00:27<00:00,  2.27it/s, loss=0.00186]\n"
          ]
        },
        {
          "output_type": "stream",
          "name": "stdout",
          "text": [
            "✅ Epoch 82 finished, avg loss = 0.001605\n"
          ]
        },
        {
          "output_type": "stream",
          "name": "stderr",
          "text": [
            "Epoch 83/100: 100%|██████████| 63/63 [00:27<00:00,  2.25it/s, loss=0.00051]\n"
          ]
        },
        {
          "output_type": "stream",
          "name": "stdout",
          "text": [
            "✅ Epoch 83 finished, avg loss = 0.001770\n"
          ]
        },
        {
          "output_type": "stream",
          "name": "stderr",
          "text": [
            "Epoch 84/100: 100%|██████████| 63/63 [00:27<00:00,  2.26it/s, loss=0.00197]\n"
          ]
        },
        {
          "output_type": "stream",
          "name": "stdout",
          "text": [
            "✅ Epoch 84 finished, avg loss = 0.001315\n"
          ]
        },
        {
          "output_type": "stream",
          "name": "stderr",
          "text": [
            "Epoch 85/100: 100%|██████████| 63/63 [00:28<00:00,  2.25it/s, loss=0.00107]\n"
          ]
        },
        {
          "output_type": "stream",
          "name": "stdout",
          "text": [
            "✅ Epoch 85 finished, avg loss = 0.001020\n"
          ]
        },
        {
          "output_type": "stream",
          "name": "stderr",
          "text": [
            "Epoch 86/100: 100%|██████████| 63/63 [00:27<00:00,  2.25it/s, loss=0.000479]\n"
          ]
        },
        {
          "output_type": "stream",
          "name": "stdout",
          "text": [
            "✅ Epoch 86 finished, avg loss = 0.001379\n"
          ]
        },
        {
          "output_type": "stream",
          "name": "stderr",
          "text": [
            "Epoch 87/100: 100%|██████████| 63/63 [00:27<00:00,  2.26it/s, loss=0.00137]\n"
          ]
        },
        {
          "output_type": "stream",
          "name": "stdout",
          "text": [
            "✅ Epoch 87 finished, avg loss = 0.001162\n"
          ]
        },
        {
          "output_type": "stream",
          "name": "stderr",
          "text": [
            "Epoch 88/100: 100%|██████████| 63/63 [00:27<00:00,  2.26it/s, loss=0.00616]\n"
          ]
        },
        {
          "output_type": "stream",
          "name": "stdout",
          "text": [
            "✅ Epoch 88 finished, avg loss = 0.001675\n"
          ]
        },
        {
          "output_type": "stream",
          "name": "stderr",
          "text": [
            "Epoch 89/100: 100%|██████████| 63/63 [00:27<00:00,  2.25it/s, loss=0.000664]\n"
          ]
        },
        {
          "output_type": "stream",
          "name": "stdout",
          "text": [
            "✅ Epoch 89 finished, avg loss = 0.001928\n"
          ]
        },
        {
          "output_type": "stream",
          "name": "stderr",
          "text": [
            "Epoch 90/100: 100%|██████████| 63/63 [00:28<00:00,  2.24it/s, loss=0.00179]\n"
          ]
        },
        {
          "output_type": "stream",
          "name": "stdout",
          "text": [
            "✅ Epoch 90 finished, avg loss = 0.001536\n"
          ]
        },
        {
          "output_type": "stream",
          "name": "stderr",
          "text": [
            "Epoch 91/100: 100%|██████████| 63/63 [00:28<00:00,  2.25it/s, loss=0.000462]\n"
          ]
        },
        {
          "output_type": "stream",
          "name": "stdout",
          "text": [
            "✅ Epoch 91 finished, avg loss = 0.001670\n"
          ]
        },
        {
          "output_type": "stream",
          "name": "stderr",
          "text": [
            "Epoch 92/100: 100%|██████████| 63/63 [00:28<00:00,  2.22it/s, loss=0.00219]\n"
          ]
        },
        {
          "output_type": "stream",
          "name": "stdout",
          "text": [
            "✅ Epoch 92 finished, avg loss = 0.001873\n"
          ]
        },
        {
          "output_type": "stream",
          "name": "stderr",
          "text": [
            "Epoch 93/100: 100%|██████████| 63/63 [00:28<00:00,  2.24it/s, loss=0.000605]\n"
          ]
        },
        {
          "output_type": "stream",
          "name": "stdout",
          "text": [
            "✅ Epoch 93 finished, avg loss = 0.002198\n"
          ]
        },
        {
          "output_type": "stream",
          "name": "stderr",
          "text": [
            "Epoch 94/100: 100%|██████████| 63/63 [00:28<00:00,  2.24it/s, loss=0.00168]\n"
          ]
        },
        {
          "output_type": "stream",
          "name": "stdout",
          "text": [
            "✅ Epoch 94 finished, avg loss = 0.001247\n"
          ]
        },
        {
          "output_type": "stream",
          "name": "stderr",
          "text": [
            "Epoch 95/100: 100%|██████████| 63/63 [00:28<00:00,  2.24it/s, loss=0.00197]\n"
          ]
        },
        {
          "output_type": "stream",
          "name": "stdout",
          "text": [
            "✅ Epoch 95 finished, avg loss = 0.001206\n"
          ]
        },
        {
          "output_type": "stream",
          "name": "stderr",
          "text": [
            "Epoch 96/100: 100%|██████████| 63/63 [00:28<00:00,  2.23it/s, loss=0.00391]\n"
          ]
        },
        {
          "output_type": "stream",
          "name": "stdout",
          "text": [
            "✅ Epoch 96 finished, avg loss = 0.001844\n"
          ]
        },
        {
          "output_type": "stream",
          "name": "stderr",
          "text": [
            "Epoch 97/100: 100%|██████████| 63/63 [00:28<00:00,  2.23it/s, loss=0.00123]\n"
          ]
        },
        {
          "output_type": "stream",
          "name": "stdout",
          "text": [
            "✅ Epoch 97 finished, avg loss = 0.001875\n"
          ]
        },
        {
          "output_type": "stream",
          "name": "stderr",
          "text": [
            "Epoch 98/100: 100%|██████████| 63/63 [00:28<00:00,  2.24it/s, loss=0.000675]\n"
          ]
        },
        {
          "output_type": "stream",
          "name": "stdout",
          "text": [
            "✅ Epoch 98 finished, avg loss = 0.001187\n"
          ]
        },
        {
          "output_type": "stream",
          "name": "stderr",
          "text": [
            "Epoch 99/100: 100%|██████████| 63/63 [00:28<00:00,  2.24it/s, loss=0.000886]\n"
          ]
        },
        {
          "output_type": "stream",
          "name": "stdout",
          "text": [
            "✅ Epoch 99 finished, avg loss = 0.001424\n"
          ]
        },
        {
          "output_type": "stream",
          "name": "stderr",
          "text": [
            "Epoch 100/100: 100%|██████████| 63/63 [00:28<00:00,  2.24it/s, loss=0.00155]"
          ]
        },
        {
          "output_type": "stream",
          "name": "stdout",
          "text": [
            "✅ Epoch 100 finished, avg loss = 0.001673\n"
          ]
        },
        {
          "output_type": "stream",
          "name": "stderr",
          "text": [
            "\n"
          ]
        }
      ],
      "source": [
        "\n",
        "# 1. 实例化模型\n",
        "model = SafeFlowNet(hidden_dim=128)\n",
        "\n",
        "\n",
        "dataset = SafeFlowDataset(\"safeflow_dataset_smoothed_H500.npz\")\n",
        "\n",
        "dataloader = torch.utils.data.DataLoader(dataset, batch_size=16, shuffle=True)\n",
        "\n",
        "# 3. 训练\n",
        "trained_model = train_safeflow(model, dataloader, num_epochs=100, lr=1e-3, device=\"cuda\")\n",
        "\n",
        "\n"
      ]
    },
    {
      "cell_type": "code",
      "execution_count": null,
      "metadata": {
        "id": "CBpf8VO3vRQe"
      },
      "outputs": [],
      "source": [
        "\n",
        "def visualize_safe_vs_unsafe(model, dataset, sample_idx=0, device=None):\n",
        "    import matplotlib.pyplot as plt\n",
        "    import torch\n",
        "\n",
        "    # 自动检测设备\n",
        "    device = device or next(model.parameters()).device\n",
        "    model = model.to(device)\n",
        "    model.eval()\n",
        "\n",
        "    # 从 dataset 拿到 sample（确保都是 Tensor）\n",
        "    inputs, goal, obstacles, true_traj = dataset[sample_idx]\n",
        "\n",
        "    # 全部转 tensor 并迁移到 device\n",
        "    inputs = torch.as_tensor(inputs, dtype=torch.float32).unsqueeze(0).to(device)\n",
        "    goal = torch.as_tensor(goal, dtype=torch.float32).unsqueeze(0).to(device)\n",
        "    obstacles = torch.as_tensor(obstacles, dtype=torch.float32).unsqueeze(0).to(device)\n",
        "    true_traj = torch.as_tensor(true_traj, dtype=torch.float32).unsqueeze(0).to(device)\n",
        "\n",
        "    # 起点\n",
        "    start = inputs[:, 0, 1:3]\n",
        "\n",
        "    # rollout 1：无安全控制\n",
        "    pred_traj_unsafe = rollout_trajectory(model, start, obstacles, steps=inputs.shape[1] - 1)\n",
        "    pred_traj_unsafe = pred_traj_unsafe.squeeze(0).cpu().detach().numpy()\n",
        "\n",
        "    # rollout 2：带安全控制（转换 numpy）\n",
        "    start_np = start.cpu().numpy()\n",
        "    obs_np = obstacles.cpu().numpy()\n",
        "    obs_list = [tuple(obs_np[0][i:i+3]) for i in range(0, 9, 3)]\n",
        "    pred_traj_unsafe = rollout_trajectory(model, start, obstacles, steps=inputs.shape[1] - 1)\n",
        "    pred_traj_unsafe = pred_traj_unsafe.squeeze(0).cpu().detach().numpy()\n",
        "\n",
        "\n",
        "\n",
        "    #  正确调用你写好的安全轨迹生成函数\n",
        "    pred_traj_safe = rollout_trajectory_safe(model, start, obstacles, steps=inputs.shape[1] - 1)\n",
        "\n",
        "    pred_traj_safe = pred_traj_safe.cpu().detach().numpy()\n",
        "\n",
        "\n",
        "    # 真实轨迹\n",
        "    true_traj = true_traj.squeeze(0).cpu().numpy()\n",
        "\n",
        "    # 画图\n",
        "    fig, ax = plt.subplots(figsize=(6, 6))\n",
        "    ax.set_xlim(0, 1)\n",
        "    ax.set_ylim(0, 1)\n",
        "    ax.set_aspect(\"equal\")\n",
        "    ax.grid(True)\n",
        "\n",
        "    ax.plot(start_np[0, 0], start_np[0, 1], \"go\", label=\"Start\")\n",
        "    ax.plot(goal[0, 0].item(), goal[0, 1].item(), \"ro\", label=\"Goal\")\n",
        "\n",
        "    for (cx, cy, r) in obs_list:\n",
        "        ax.add_patch(plt.Circle((cx, cy), r, color=\"gray\", alpha=0.4))\n",
        "\n",
        "    ax.plot(true_traj[:, 0], true_traj[:, 1], \"b--\", label=\"Ground Truth\")\n",
        "    ax.plot(pred_traj_unsafe[:, 0], pred_traj_unsafe[:, 1], \"m-o\", label=\"Unsafe\")\n",
        "    ax.plot(pred_traj_safe[:, 0], pred_traj_safe[:, 1], \"g-o\", label=\"SafeFlow\")\n",
        "\n",
        "    ax.legend()\n",
        "    plt.title(\"SafeFlow Trajectory Comparison\")\n",
        "    plt.show()"
      ]
    },
    {
      "cell_type": "code",
      "execution_count": null,
      "metadata": {
        "colab": {
          "base_uri": "https://localhost:8080/",
          "height": 545
        },
        "id": "CZblnqmnwIC3",
        "outputId": "d94b8ebc-420e-4071-9b91-ae06949f5b8b"
      },
      "outputs": [
        {
          "output_type": "display_data",
          "data": {
            "text/plain": [
              "<Figure size 600x600 with 1 Axes>"
            ],
            "image/png": "[encoded data removed]"
          },
          "metadata": {}
        }
      ],
      "source": [
        "\n",
        "visualize_safe_vs_unsafe(trained_model, dataset, sample_idx=0)\n",
        "\n",
        "\n"
      ]
    },
    {
      "cell_type": "code",
      "source": [
        "\n",
        "\n",
        "\n"
      ],
      "metadata": {
        "id": "pZOPZC8P3gru"
      },
      "execution_count": null,
      "outputs": []
    }
  ],
  "metadata": {
    "accelerator": "GPU",
    "colab": {
      "gpuType": "L4",
      "machine_shape": "hm",
      "provenance": [],
      "include_colab_link": true
    },
    "kernelspec": {
      "display_name": "Python 3",
      "name": "python3"
    },
    "language_info": {
      "name": "python"
    }
  },
  "nbformat": 4,
  "nbformat_minor": 0
}